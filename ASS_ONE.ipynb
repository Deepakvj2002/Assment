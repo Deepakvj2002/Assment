{
  "nbformat": 4,
  "nbformat_minor": 0,
  "metadata": {
    "colab": {
      "provenance": [],
      "toc_visible": true,
      "authorship_tag": "ABX9TyOF8478UXwFvyay0l+rVjQI",
      "include_colab_link": true
    },
    "kernelspec": {
      "name": "python3",
      "display_name": "Python 3"
    },
    "language_info": {
      "name": "python"
    }
  },
  "cells": [
    {
      "cell_type": "markdown",
      "metadata": {
        "id": "view-in-github",
        "colab_type": "text"
      },
      "source": [
        "<a href=\"https://colab.research.google.com/github/Deepakvj2002/Assment/blob/main/ASS_ONE.ipynb\" target=\"_parent\"><img src=\"https://colab.research.google.com/assets/colab-badge.svg\" alt=\"Open In Colab\"/></a>"
      ]
    },
    {
      "cell_type": "code",
      "execution_count": null,
      "metadata": {
        "id": "Psi15RqrdNXi"
      },
      "outputs": [],
      "source": [
        "def roman_to_integer(s):\n",
        "    roman_int = {'I': 1, 'V': 5, 'X': 10, 'L': 50, 'C': 100, 'D': 500, 'M': 1000}\n",
        "    result = 0\n",
        "    for i in range(len(s)):\n",
        "        if i > 0 and roman_int[s[i]] > roman_int[s[i-1]]:\n",
        "            result += roman_int[s[i]] - 2 * roman_int[s[i-1]]\n",
        "        else:\n",
        "            result += roman_int[s[i]]\n",
        "    return result\n"
      ]
    },
    {
      "cell_type": "code",
      "source": [
        "def roman_to_integer(s):\n",
        "    roman_int = {'I': 1, 'V': 5, 'X': 10, 'L': 50, 'C': 100, 'D': 500, 'M': 1000}\n",
        "    result = 0\n",
        "    for i in range(len(s)):\n",
        "        if i > 0 and roman_int[s[i]] > roman_int[s[i-1]]:\n",
        "            result += roman_int[s[i]] - 2 * roman_int[s[i-1]]\n",
        "            print(result)\n",
        "\n",
        "        else:\n",
        "            result += roman_int[s[i]]\n",
        "    return result\n",
        "n = int(input('enter how many input will you give'))\n",
        "for x in range(1,n+1):\n",
        "  input_roman = input(\"enter = \")\n",
        "  output_integer = roman_to_integer(input_roman)\n",
        "  print(output_integer)"
      ],
      "metadata": {
        "colab": {
          "base_uri": "https://localhost:8080/"
        },
        "id": "JJSQeX2Xeg98",
        "outputId": "bbd8cf8c-f5ca-47a6-9063-d71a9c939226"
      },
      "execution_count": null,
      "outputs": [
        {
          "output_type": "stream",
          "name": "stdout",
          "text": [
            "enter how many input will you give5\n",
            "enter = DCCC\n",
            "800\n",
            "enter = DCLXXIII\n",
            "673\n",
            "enter = MMMDCCXXIV\n",
            "3724\n",
            "3724\n",
            "enter = MMMCMXCIX\n",
            "3900\n",
            "3990\n",
            "3999\n",
            "3999\n",
            "enter = MCMXCIX\n",
            "1900\n",
            "1990\n",
            "1999\n",
            "1999\n"
          ]
        }
      ]
    },
    {
      "cell_type": "code",
      "source": [
        "def roman_integer(num):\n",
        "    roman_int = {'I': 1, 'V': 5, 'X': 10, 'L': 50, 'C': 100, 'D': 500, 'M': 1000}\n",
        "    result = 0\n",
        "    for i in range(len(num)):\n",
        "        if i > 0 and roman_int[num[i]] > roman_int[num[i-1]]:\n",
        "            result += roman_int[num[i]] - 2 * roman_int[num[i-1]]\n",
        "        else:\n",
        "            result += roman_int[num[i]]\n",
        "    return result\n",
        "n = int(input('Enter how many input will you give = '))\n",
        "for x in range(1,n+1):\n",
        "   input_roman = input(\"Enter a Roman numeral: \")\n",
        "   output_integer = roman_integer(input_roman)\n",
        "   print(\"The value of\",input_roman,\"is\",output_integer)\n"
      ],
      "metadata": {
        "colab": {
          "base_uri": "https://localhost:8080/"
        },
        "id": "7M4HoETXs9eR",
        "outputId": "9749e4e7-c626-41a6-d72d-7207b2ca8187"
      },
      "execution_count": null,
      "outputs": [
        {
          "output_type": "stream",
          "name": "stdout",
          "text": [
            "Enter how many input will you give = 5\n",
            "Enter a Roman numeral: MCMXCIX\n",
            "The value of MCMXCIX is 1999\n",
            "Enter a Roman numeral: DCCC\n",
            "The value of DCCC is 800\n",
            "Enter a Roman numeral: DCLXXIII\n",
            "The value of DCLXXIII is 673\n",
            "Enter a Roman numeral: MMMDCCXXIV\n",
            "The value of MMMDCCXXIV is 3724\n",
            "Enter a Roman numeral: MMMCMXCIX\n",
            "The value of MMMCMXCIX is 3999\n"
          ]
        }
      ]
    },
    {
      "cell_type": "code",
      "source": [
        "def roman_integer(num):\n",
        "\n",
        "    roman_int = {'I': 1, 'V': 5, 'X': 10, 'L': 50, 'C': 100, 'D': 500, 'M': 1000}\n",
        "\n",
        "    result = 0\n",
        "\n",
        "    for x in range(len(num)):\n",
        "\n",
        "        if x > 0 and roman_int[num[x]] > roman_int[num[x-1]]:\n",
        "\n",
        "            result += roman_int[num[x]] - 2 * roman_int[num[x-1]]\n",
        "\n",
        "        else:\n",
        "\n",
        "            result += roman_int[num[x]]\n",
        "\n",
        "    return result\n",
        "\n",
        "n = int(input('Enter how many input will you give = '))\n",
        "\n",
        "for y in range(1,n+1):\n",
        "\n",
        "   input_roman = input(\"Enter a Roman numeral: \")\n",
        "\n",
        "   output_integer = roman_integer(input_roman)\n",
        "\n",
        "   print(\"The value of\",input_roman,\"is\",output_integer)"
      ],
      "metadata": {
        "id": "1ZNZep8WxeG4",
        "outputId": "6481b508-51f2-418b-90bf-5c4583cea319",
        "colab": {
          "base_uri": "https://localhost:8080/",
          "height": 391
        }
      },
      "execution_count": null,
      "outputs": [
        {
          "name": "stdout",
          "output_type": "stream",
          "text": [
            "Enter how many input will you give = 3\n",
            "Enter a Roman numeral: vvv\n"
          ]
        },
        {
          "output_type": "error",
          "ename": "KeyError",
          "evalue": "ignored",
          "traceback": [
            "\u001b[0;31m---------------------------------------------------------------------------\u001b[0m",
            "\u001b[0;31mKeyError\u001b[0m                                  Traceback (most recent call last)",
            "\u001b[0;32m<ipython-input-19-32988b74ecbb>\u001b[0m in \u001b[0;36m<cell line: 21>\u001b[0;34m()\u001b[0m\n\u001b[1;32m     23\u001b[0m    \u001b[0minput_roman\u001b[0m \u001b[0;34m=\u001b[0m \u001b[0minput\u001b[0m\u001b[0;34m(\u001b[0m\u001b[0;34m\"Enter a Roman numeral: \"\u001b[0m\u001b[0;34m)\u001b[0m\u001b[0;34m\u001b[0m\u001b[0;34m\u001b[0m\u001b[0m\n\u001b[1;32m     24\u001b[0m \u001b[0;34m\u001b[0m\u001b[0m\n\u001b[0;32m---> 25\u001b[0;31m    \u001b[0moutput_integer\u001b[0m \u001b[0;34m=\u001b[0m \u001b[0mroman_integer\u001b[0m\u001b[0;34m(\u001b[0m\u001b[0minput_roman\u001b[0m\u001b[0;34m)\u001b[0m\u001b[0;34m\u001b[0m\u001b[0;34m\u001b[0m\u001b[0m\n\u001b[0m\u001b[1;32m     26\u001b[0m \u001b[0;34m\u001b[0m\u001b[0m\n\u001b[1;32m     27\u001b[0m    \u001b[0mprint\u001b[0m\u001b[0;34m(\u001b[0m\u001b[0;34m\"The value of\"\u001b[0m\u001b[0;34m,\u001b[0m\u001b[0minput_roman\u001b[0m\u001b[0;34m,\u001b[0m\u001b[0;34m\"is\"\u001b[0m\u001b[0;34m,\u001b[0m\u001b[0moutput_integer\u001b[0m\u001b[0;34m)\u001b[0m\u001b[0;34m\u001b[0m\u001b[0;34m\u001b[0m\u001b[0m\n",
            "\u001b[0;32m<ipython-input-19-32988b74ecbb>\u001b[0m in \u001b[0;36mroman_integer\u001b[0;34m(num)\u001b[0m\n\u001b[1;32m     13\u001b[0m         \u001b[0;32melse\u001b[0m\u001b[0;34m:\u001b[0m\u001b[0;34m\u001b[0m\u001b[0;34m\u001b[0m\u001b[0m\n\u001b[1;32m     14\u001b[0m \u001b[0;34m\u001b[0m\u001b[0m\n\u001b[0;32m---> 15\u001b[0;31m             \u001b[0mresult\u001b[0m \u001b[0;34m+=\u001b[0m \u001b[0mroman_int\u001b[0m\u001b[0;34m[\u001b[0m\u001b[0mnum\u001b[0m\u001b[0;34m[\u001b[0m\u001b[0mx\u001b[0m\u001b[0;34m]\u001b[0m\u001b[0;34m]\u001b[0m\u001b[0;34m\u001b[0m\u001b[0;34m\u001b[0m\u001b[0m\n\u001b[0m\u001b[1;32m     16\u001b[0m \u001b[0;34m\u001b[0m\u001b[0m\n\u001b[1;32m     17\u001b[0m     \u001b[0;32mreturn\u001b[0m \u001b[0mresult\u001b[0m\u001b[0;34m\u001b[0m\u001b[0;34m\u001b[0m\u001b[0m\n",
            "\u001b[0;31mKeyError\u001b[0m: 'v'"
          ]
        }
      ]
    },
    {
      "cell_type": "code",
      "source": [
        "\n",
        "\n",
        "int val 0\n",
        "\n",
        "def roman to int(self, s): rom_val = ('1': 1, ; 5, x: 10, 1:50, 100, 5: 500, M: 1000) for i in range(len(s)): if 1 > 0 and rom vallalill ron valls[i-1]]: int val rom valls[i]] 2 rom valisi - 1]]\n",
        "\n",
        "int val rom val[still return int val\n",
        "\n",
        "print (roman_py().roman_to_int(\"MCHICIX\")) print (roman_py().roman_to_int('C'))\n",
        "\n",
        "print (roman_py().roman to int('DCLXXII)))\n",
        "\n",
        "print (roman_py().coman_to_int (HDCCXXIV))\n",
        "\n",
        "print (roman_py().roman_to_int (CHCIX))"
      ],
      "metadata": {
        "id": "0U4x17idxoHP"
      },
      "execution_count": null,
      "outputs": []
    },
    {
      "cell_type": "code",
      "source": [
        "roman_int = {'I': 1, 'V': 5, 'X': 10, 'L': 50, 'C': 100, 'D': 500, 'M': 1000}\n",
        "result = 0\n",
        "mm=input(\"enter the romance\")\n",
        "for x in roman_int:\n",
        "  if x==mm:\n",
        "\n",
        "\n"
      ],
      "metadata": {
        "colab": {
          "base_uri": "https://localhost:8080/"
        },
        "id": "SXZidHtqfHFw",
        "outputId": "93f5e766-264f-4b78-84fa-9bb2acbfa900"
      },
      "execution_count": null,
      "outputs": [
        {
          "output_type": "stream",
          "name": "stdout",
          "text": [
            "enter the romanceV\n",
            "5\n"
          ]
        }
      ]
    }
  ]
}